{
  "nbformat": 4,
  "nbformat_minor": 0,
  "metadata": {
    "colab": {
      "provenance": [],
      "authorship_tag": "ABX9TyOXlosvCspxEXFDgf2LQ4FM",
      "include_colab_link": true
    },
    "kernelspec": {
      "name": "python3",
      "display_name": "Python 3"
    },
    "language_info": {
      "name": "python"
    }
  },
  "cells": [
    {
      "cell_type": "markdown",
      "metadata": {
        "id": "view-in-github",
        "colab_type": "text"
      },
      "source": [
        "<a href=\"https://colab.research.google.com/github/jifanajif/pythonbasic/blob/main/pythonbasic.ipynb\" target=\"_parent\"><img src=\"https://colab.research.google.com/assets/colab-badge.svg\" alt=\"Open In Colab\"/></a>"
      ]
    },
    {
      "cell_type": "code",
      "execution_count": 3,
      "metadata": {
        "colab": {
          "base_uri": "https://localhost:8080/"
        },
        "id": "gB-yAvllqzdo",
        "outputId": "eb756761-e395-4605-ec58-58720312c2e6"
      },
      "outputs": [
        {
          "output_type": "stream",
          "name": "stdout",
          "text": [
            "hello world\n"
          ]
        }
      ],
      "source": [
        "def jif():\n",
        "  print(\"hello world\")\n",
        "jif()"
      ]
    },
    {
      "cell_type": "code",
      "source": [
        "def jif(x,y):\n",
        "  z=x+y\n",
        "  print(\"result = \",z)"
      ],
      "metadata": {
        "id": "CeKL4pYJs7wI"
      },
      "execution_count": 5,
      "outputs": []
    },
    {
      "cell_type": "code",
      "source": [
        "jif(2,6)"
      ],
      "metadata": {
        "colab": {
          "base_uri": "https://localhost:8080/"
        },
        "id": "0_-oUBlXvDuP",
        "outputId": "a4814674-c7bd-459a-c2d6-4254b3d51a44"
      },
      "execution_count": 6,
      "outputs": [
        {
          "output_type": "stream",
          "name": "stdout",
          "text": [
            "result =  8\n"
          ]
        }
      ]
    },
    {
      "cell_type": "code",
      "source": [
        "def jif(x,y):\n",
        "  z=x-y\n",
        "  print(\"result = \",z)"
      ],
      "metadata": {
        "id": "Pa0jfmKVvShI"
      },
      "execution_count": 7,
      "outputs": []
    },
    {
      "cell_type": "code",
      "source": [
        "jif(5,2)"
      ],
      "metadata": {
        "colab": {
          "base_uri": "https://localhost:8080/"
        },
        "id": "-NXqX60cvho7",
        "outputId": "b7039299-bdff-48c2-89d4-dd701a306335"
      },
      "execution_count": 8,
      "outputs": [
        {
          "output_type": "stream",
          "name": "stdout",
          "text": [
            "result =  3\n"
          ]
        }
      ]
    },
    {
      "cell_type": "code",
      "source": [
        "x= int(input())\n",
        "def jif(x):\n",
        "  if x>250000:\n",
        "    print(\"u r taxable\")\n",
        "  else:\n",
        "    print(\"u r not taxable\")\n",
        "jif(x)"
      ],
      "metadata": {
        "colab": {
          "base_uri": "https://localhost:8080/"
        },
        "id": "fQ-6cEr-xAhO",
        "outputId": "db0b4a06-a0ae-4cf0-c918-23daa3805213"
      },
      "execution_count": 12,
      "outputs": [
        {
          "output_type": "stream",
          "name": "stdout",
          "text": [
            "450000\n",
            "u r taxable\n"
          ]
        }
      ]
    },
    {
      "cell_type": "code",
      "source": [
        "x=int(input(\"enter a salary \"))\n",
        "jif(x)"
      ],
      "metadata": {
        "colab": {
          "base_uri": "https://localhost:8080/"
        },
        "id": "AZAXGZxwxp3R",
        "outputId": "4957f44a-fdec-4f93-cb9a-670dd343ce0f"
      },
      "execution_count": 14,
      "outputs": [
        {
          "output_type": "stream",
          "name": "stdout",
          "text": [
            "enter a salary 600000\n",
            "u r taxable\n"
          ]
        }
      ]
    },
    {
      "cell_type": "code",
      "source": [
        "def add(a):\n",
        "  k=0\n",
        "  for i in range(x):\n",
        "    k=k+x\n",
        "  print(k)"
      ],
      "metadata": {
        "id": "fxGAsdt-zgDO"
      },
      "execution_count": 18,
      "outputs": []
    },
    {
      "cell_type": "code",
      "source": [
        "num=int(input(\"enter the numbers\"))\n",
        "add(num)"
      ],
      "metadata": {
        "colab": {
          "base_uri": "https://localhost:8080/"
        },
        "id": "CDJHK4mU5cQR",
        "outputId": "995c4d2e-867a-4df2-e47f-b947967676d3"
      },
      "execution_count": 19,
      "outputs": [
        {
          "output_type": "stream",
          "name": "stdout",
          "text": [
            "enter the numbers200\n",
            "360000000000\n"
          ]
        }
      ]
    },
    {
      "cell_type": "code",
      "source": [
        "def add(x,y):\n",
        "  print(x+y)\n",
        "def sub(x,y):\n",
        "  print(x-y)"
      ],
      "metadata": {
        "id": "kt8VjXsV8yFW"
      },
      "execution_count": 20,
      "outputs": []
    },
    {
      "cell_type": "code",
      "source": [
        "x=int(input(\"enter a number\"))\n",
        "y=int(input(\"enter a number\"))\n",
        "add(x,y)\n",
        "sub(x,y)"
      ],
      "metadata": {
        "colab": {
          "base_uri": "https://localhost:8080/"
        },
        "id": "27sMWkwP9pFD",
        "outputId": "3d6b2d56-9fea-4693-c11b-b3835a5087de"
      },
      "execution_count": 21,
      "outputs": [
        {
          "output_type": "stream",
          "name": "stdout",
          "text": [
            "enter a number30\n",
            "enter a number60\n",
            "90\n",
            "-30\n"
          ]
        }
      ]
    },
    {
      "cell_type": "code",
      "source": [],
      "metadata": {
        "id": "GP8ak7dE-oE4"
      },
      "execution_count": 21,
      "outputs": []
    }
  ]
}