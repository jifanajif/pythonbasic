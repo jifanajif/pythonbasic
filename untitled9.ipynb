{
  "nbformat": 4,
  "nbformat_minor": 0,
  "metadata": {
    "colab": {
      "provenance": [],
      "authorship_tag": "ABX9TyNJkY6qMA6g08zd9ypraW9H",
      "include_colab_link": true
    },
    "kernelspec": {
      "name": "python3",
      "display_name": "Python 3"
    },
    "language_info": {
      "name": "python"
    }
  },
  "cells": [
    {
      "cell_type": "markdown",
      "metadata": {
        "id": "view-in-github",
        "colab_type": "text"
      },
      "source": [
        "<a href=\"https://colab.research.google.com/github/jifanajif/pythonbasic/blob/main/untitled9.ipynb\" target=\"_parent\"><img src=\"https://colab.research.google.com/assets/colab-badge.svg\" alt=\"Open In Colab\"/></a>"
      ]
    },
    {
      "cell_type": "code",
      "execution_count": null,
      "metadata": {
        "colab": {
          "base_uri": "https://localhost:8080/"
        },
        "id": "IIyGAEyojhIy",
        "outputId": "e849ff37-8bf0-46c5-e8ff-f4876abc00c9"
      },
      "outputs": [
        {
          "output_type": "stream",
          "name": "stdout",
          "text": [
            "enter the number 20\n",
            "the value is 20\n"
          ]
        }
      ],
      "source": [
        "num=int(input(\"enter the number \"))\n",
        "if num<0:\n",
        "  print(\"the value is\",num*-1)\n",
        "else:\n",
        "  print(\"the value is\",num)"
      ]
    },
    {
      "cell_type": "code",
      "source": [
        "mark=int(input(\"enter the marks\"))\n",
        "if mark<25:\n",
        "  print(\"the grade is f\")\n",
        "if mark>25 and mark<45:\n",
        "  print(\"the grade is e\")\n",
        "if mark>45 and mark<50:\n",
        "  print(\"the grade is d\")\n",
        "if mark>50 and mark<60:\n",
        "  print(\"the grade is c\")\n",
        "if mark>60 and mark<80:\n",
        "  print(\"the grade is b\")\n",
        "else:\n",
        "  print(\"the grade is a\")\n"
      ],
      "metadata": {
        "colab": {
          "base_uri": "https://localhost:8080/"
        },
        "id": "Z3elh6xKmmDA",
        "outputId": "15ef5e56-039b-4a26-9754-9eabdc32e4c9"
      },
      "execution_count": null,
      "outputs": [
        {
          "output_type": "stream",
          "name": "stdout",
          "text": [
            "enter the marks92\n",
            "the grade is a\n"
          ]
        }
      ]
    },
    {
      "cell_type": "code",
      "source": [
        "numclss=int(input(\"enter the number of classes held \"))\n",
        "att=int(input(\"enter the number of classes attended \"))\n",
        "x=numclss/att*100\n",
        "if x<75:\n",
        "  print(\"the student is not allowed to sit in exam \")\n",
        "else:\n",
        "  print(\"the student is allowed to sit in class \")"
      ],
      "metadata": {
        "colab": {
          "base_uri": "https://localhost:8080/"
        },
        "id": "IlW02GHopyv0",
        "outputId": "bbdd1c34-a1b6-4956-91fd-bb0acf27e180"
      },
      "execution_count": null,
      "outputs": [
        {
          "output_type": "stream",
          "name": "stdout",
          "text": [
            "enter the number of classes held 100\n",
            "enter the number of classes attended 88\n",
            "the student is allowed to sit in class \n"
          ]
        }
      ]
    },
    {
      "cell_type": "code",
      "source": [
        "add1=int(input(\"enter the first number \"))\n",
        "add2=int(input(\"enter the second number \"))\n",
        "x=add1+add2\n",
        "print(\"the sum is\",x)"
      ],
      "metadata": {
        "colab": {
          "base_uri": "https://localhost:8080/"
        },
        "id": "1reUK_JmrvFp",
        "outputId": "e1b09ae3-27f8-4326-e237-5ba73200af24"
      },
      "execution_count": null,
      "outputs": [
        {
          "output_type": "stream",
          "name": "stdout",
          "text": [
            "enter the first number 2\n",
            "enter the second number 8\n",
            "the sum is 10\n"
          ]
        }
      ]
    },
    {
      "cell_type": "code",
      "source": [
        "sub1=int(inpu)"
      ],
      "metadata": {
        "id": "5vM_uJIUs1rh"
      },
      "execution_count": null,
      "outputs": []
    },
    {
      "cell_type": "code",
      "source": [
        "sub1=int(input(\"enter the first number \"))\n",
        "sub2=int(input(\"enter the second number \"))\n",
        "x=sub1-sub2\n",
        "print(\"the substraction is\",x)"
      ],
      "metadata": {
        "colab": {
          "base_uri": "https://localhost:8080/"
        },
        "outputId": "00998324-42c1-4f78-dc29-1027a928ed1e",
        "id": "D3d-Nm36tWXL"
      },
      "execution_count": null,
      "outputs": [
        {
          "output_type": "stream",
          "name": "stdout",
          "text": [
            "enter the first number 10\n",
            "enter the second number 5\n",
            "the substraction is 5\n"
          ]
        }
      ]
    },
    {
      "cell_type": "code",
      "source": [],
      "metadata": {
        "id": "HqeIykJGtonk"
      },
      "execution_count": null,
      "outputs": []
    },
    {
      "cell_type": "code",
      "source": [
        "mult1=int(input(\"enter the first number \"))\n",
        "mult2=int(input(\"enter the second number \"))\n",
        "x=mult1*mult2\n",
        "print(\"the multiplication is\",x)"
      ],
      "metadata": {
        "colab": {
          "base_uri": "https://localhost:8080/"
        },
        "outputId": "348d4858-53b4-443f-f77b-6a63288cdb28",
        "id": "vrfxRycxtzU9"
      },
      "execution_count": null,
      "outputs": [
        {
          "output_type": "stream",
          "name": "stdout",
          "text": [
            "enter the first number 20\n",
            "enter the second number 10\n",
            "the multiplication is 200\n"
          ]
        }
      ]
    },
    {
      "cell_type": "code",
      "source": [],
      "metadata": {
        "id": "pGzH_00Pt_nK"
      },
      "execution_count": null,
      "outputs": []
    },
    {
      "cell_type": "code",
      "source": [
        "div1=int(input(\"enter the first number \"))\n",
        "div2=int(input(\"enter the second number \"))\n",
        "x=div1/div2\n",
        "print(\"the division is\",x)"
      ],
      "metadata": {
        "colab": {
          "base_uri": "https://localhost:8080/"
        },
        "outputId": "944b5c9e-4b02-459e-b4f0-b1844572e59c",
        "id": "OICh7UUzuFpN"
      },
      "execution_count": null,
      "outputs": [
        {
          "output_type": "stream",
          "name": "stdout",
          "text": [
            "enter the first number 20\n",
            "enter the second number 2\n",
            "the division is 10.0\n"
          ]
        }
      ]
    },
    {
      "cell_type": "code",
      "source": [],
      "metadata": {
        "id": "6YKxOW6EuQsB"
      },
      "execution_count": null,
      "outputs": []
    },
    {
      "cell_type": "code",
      "source": [
        "mod1=int(input(\"enter the first number \"))\n",
        "mod2=int(input(\"enter the second number \"))\n",
        "x=mod1%mod2\n",
        "print(\"the modulus is\",x)"
      ],
      "metadata": {
        "colab": {
          "base_uri": "https://localhost:8080/"
        },
        "outputId": "b19dc88a-a3f6-49a1-f35e-8a0ee211b947",
        "id": "0AH3m5YvudSM"
      },
      "execution_count": null,
      "outputs": [
        {
          "output_type": "stream",
          "name": "stdout",
          "text": [
            "enter the first number 50\n",
            "enter the second number 2\n",
            "the modulus is 0\n"
          ]
        }
      ]
    },
    {
      "cell_type": "code",
      "source": [],
      "metadata": {
        "id": "91ljGk8VutS5"
      },
      "execution_count": null,
      "outputs": []
    },
    {
      "cell_type": "code",
      "source": [
        "floor1=int(input(\"enter the first number \"))\n",
        "floor2=int(input(\"enter the second number \"))\n",
        "x=floor1//floor2\n",
        "print(\"the floor division  is\",x)"
      ],
      "metadata": {
        "colab": {
          "base_uri": "https://localhost:8080/"
        },
        "outputId": "57c5af53-41a6-468e-cfb6-a7a27e12c836",
        "id": "LcGlaZyuuyb1"
      },
      "execution_count": null,
      "outputs": [
        {
          "output_type": "stream",
          "name": "stdout",
          "text": [
            "enter the first number 200\n",
            "enter the second number 2\n",
            "the floor division  is 100\n"
          ]
        }
      ]
    },
    {
      "cell_type": "code",
      "source": [],
      "metadata": {
        "id": "-eGcXVqgvBfx"
      },
      "execution_count": null,
      "outputs": []
    },
    {
      "cell_type": "code",
      "source": [
        "exp1=int(input(\"enter the first number \"))\n",
        "exp2=int(input(\"enter the second number \"))\n",
        "x=exp1**exp2\n",
        "print(\"the exponent is\",x)"
      ],
      "metadata": {
        "colab": {
          "base_uri": "https://localhost:8080/"
        },
        "outputId": "3269c4e3-b3f5-4788-ec7f-a57fe37cd2a8",
        "id": "9XqcBQYpvFTt"
      },
      "execution_count": null,
      "outputs": [
        {
          "output_type": "stream",
          "name": "stdout",
          "text": [
            "enter the first number 525\n",
            "enter the second number 5\n",
            "the exponent is 39883798828125\n"
          ]
        }
      ]
    },
    {
      "cell_type": "code",
      "source": [
        "name=input(\"enter the name \")\n",
        "for i in name:\n",
        "  print(i)"
      ],
      "metadata": {
        "colab": {
          "base_uri": "https://localhost:8080/"
        },
        "id": "GHDdDT21vTJY",
        "outputId": "623bccc9-d994-4c5a-9809-fe67695f8efa"
      },
      "execution_count": null,
      "outputs": [
        {
          "output_type": "stream",
          "name": "stdout",
          "text": [
            "enter the name jif\n",
            "j\n",
            "i\n",
            "f\n"
          ]
        }
      ]
    },
    {
      "cell_type": "code",
      "source": [
        "for i in range(45,89,2):\n",
        "  print(i)"
      ],
      "metadata": {
        "colab": {
          "base_uri": "https://localhost:8080/"
        },
        "id": "HUxkv3vHwJ6r",
        "outputId": "44cfe62b-84d1-4689-b98a-4d714bd41526"
      },
      "execution_count": null,
      "outputs": [
        {
          "output_type": "stream",
          "name": "stdout",
          "text": [
            "45\n",
            "47\n",
            "49\n",
            "51\n",
            "53\n",
            "55\n",
            "57\n",
            "59\n",
            "61\n",
            "63\n",
            "65\n",
            "67\n",
            "69\n",
            "71\n",
            "73\n",
            "75\n",
            "77\n",
            "79\n",
            "81\n",
            "83\n",
            "85\n",
            "87\n"
          ]
        }
      ]
    },
    {
      "cell_type": "code",
      "source": [],
      "metadata": {
        "id": "JUeJlaz9w0P0"
      },
      "execution_count": null,
      "outputs": []
    }
  ]
}