{
  "nbformat": 4,
  "nbformat_minor": 0,
  "metadata": {
    "colab": {
      "provenance": [],
      "authorship_tag": "ABX9TyOM9ChfXi4FVA0ndX+FhYpR",
      "include_colab_link": true
    },
    "kernelspec": {
      "name": "python3",
      "display_name": "Python 3"
    },
    "language_info": {
      "name": "python"
    }
  },
  "cells": [
    {
      "cell_type": "markdown",
      "metadata": {
        "id": "view-in-github",
        "colab_type": "text"
      },
      "source": [
        "<a href=\"https://colab.research.google.com/github/jifanajif/pythonbasic/blob/main/Untitled10.ipynb\" target=\"_parent\"><img src=\"https://colab.research.google.com/assets/colab-badge.svg\" alt=\"Open In Colab\"/></a>"
      ]
    },
    {
      "cell_type": "code",
      "execution_count": 4,
      "metadata": {
        "colab": {
          "base_uri": "https://localhost:8080/"
        },
        "id": "Sebl6kNHqWN0",
        "outputId": "ba4d5885-643c-46a4-ccf5-84fcd9eca971"
      },
      "outputs": [
        {
          "output_type": "stream",
          "name": "stdout",
          "text": [
            "enter the number 10\n",
            "1 * 10 = 10\n",
            "2 * 10 = 20\n",
            "3 * 10 = 30\n",
            "4 * 10 = 40\n",
            "5 * 10 = 50\n",
            "6 * 10 = 60\n",
            "7 * 10 = 70\n",
            "8 * 10 = 80\n",
            "9 * 10 = 90\n",
            "10 * 10 = 100\n"
          ]
        }
      ],
      "source": [
        "n=int(input(\"enter the number \"))\n",
        "for i in range(1,11,1):\n",
        "  print(i,\"*\",n,\"=\",i*n)\n"
      ]
    },
    {
      "cell_type": "code",
      "source": [
        "n=int(input(\"enter the number \"))\n",
        "n=str(n)\n",
        "count=0\n",
        "for i in n:\n",
        "  count+=1\n",
        "print(count)"
      ],
      "metadata": {
        "colab": {
          "base_uri": "https://localhost:8080/"
        },
        "id": "3y9N83FFvmaA",
        "outputId": "58095e7f-ea96-4eee-d7b5-cf3087d941e2"
      },
      "execution_count": 9,
      "outputs": [
        {
          "output_type": "stream",
          "name": "stdout",
          "text": [
            "enter the number 20202020\n",
            "8\n"
          ]
        }
      ]
    },
    {
      "cell_type": "code",
      "source": [
        "n=int(input(\"enter the number \"))\n",
        "factorial=1\n",
        "for i in range(1,n+1):\n",
        "  factorial=factorial*i\n",
        "print(\"the factorial of\",n,\"is\",factorial)"
      ],
      "metadata": {
        "colab": {
          "base_uri": "https://localhost:8080/"
        },
        "id": "aJTDBnfJx23o",
        "outputId": "a3ebb477-3eac-4a6b-db47-2917e455a019"
      },
      "execution_count": 13,
      "outputs": [
        {
          "output_type": "stream",
          "name": "stdout",
          "text": [
            "enter the number 5\n",
            "the factorial of 5 is 120\n"
          ]
        }
      ]
    },
    {
      "cell_type": "code",
      "source": [
        "nm=input(\"enter the name \")\n",
        "reverse_str=\"\"\n",
        "for i in nm:\n",
        "  reverse_str=i+reverse_str\n",
        "if (reverse_str==reverse_str):\n",
        "  print(\"the string\",nm,\"is a palindrome\")\n",
        "else:\n",
        "  print(\"the string\",nm,\"is not a palindrome\")"
      ],
      "metadata": {
        "colab": {
          "base_uri": "https://localhost:8080/"
        },
        "id": "BNXQ99uc3fo_",
        "outputId": "c14ae8be-03c5-437d-ce3c-1628bd1931d4"
      },
      "execution_count": 15,
      "outputs": [
        {
          "output_type": "stream",
          "name": "stdout",
          "text": [
            "enter the name malayalam\n",
            "the string malayalam is a palindrome\n"
          ]
        }
      ]
    },
    {
      "cell_type": "code",
      "source": [],
      "metadata": {
        "id": "Nn0OEubF7xij"
      },
      "execution_count": 15,
      "outputs": []
    }
  ]
}