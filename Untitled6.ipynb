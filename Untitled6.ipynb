{
  "nbformat": 4,
  "nbformat_minor": 0,
  "metadata": {
    "colab": {
      "provenance": [],
      "authorship_tag": "ABX9TyOxNroGsn1eXL+vDi9lWpey",
      "include_colab_link": true
    },
    "kernelspec": {
      "name": "python3",
      "display_name": "Python 3"
    },
    "language_info": {
      "name": "python"
    }
  },
  "cells": [
    {
      "cell_type": "markdown",
      "metadata": {
        "id": "view-in-github",
        "colab_type": "text"
      },
      "source": [
        "<a href=\"https://colab.research.google.com/github/jifanajif/pythonbasic/blob/main/Untitled6.ipynb\" target=\"_parent\"><img src=\"https://colab.research.google.com/assets/colab-badge.svg\" alt=\"Open In Colab\"/></a>"
      ]
    },
    {
      "cell_type": "code",
      "execution_count": 1,
      "metadata": {
        "colab": {
          "base_uri": "https://localhost:8080/"
        },
        "id": "8NwprPwCnv3T",
        "outputId": "1a523634-3ae8-42db-f1fe-277fa8e1caeb"
      },
      "outputs": [
        {
          "output_type": "stream",
          "name": "stdout",
          "text": [
            "enter the source:trip india\n",
            "enter the destination:delhi\n",
            "enter the number of persons:10\n",
            "trip india\n",
            "delhi\n",
            "10\n"
          ]
        }
      ],
      "source": [
        "pts=input(\"enter the source:\")\n",
        "ptd=input(\"enter the destination:\")\n",
        "numb=int(input(\"enter the number of persons:\"))\n",
        "print(pts)\n",
        "print(ptd)\n",
        "print(numb)"
      ]
    },
    {
      "cell_type": "code",
      "source": [
        "totfare=int(input(\"enter the total fare:\"))\n",
        "totnumb=int(input(\"enter the number\"))\n",
        "d=totfare//totnumb\n",
        "print(\"ticket per person is\",d)"
      ],
      "metadata": {
        "colab": {
          "base_uri": "https://localhost:8080/"
        },
        "id": "bFQgOCdZqvwz",
        "outputId": "f701c671-bdcb-4b1d-a8a8-934401e8b2cc"
      },
      "execution_count": 4,
      "outputs": [
        {
          "output_type": "stream",
          "name": "stdout",
          "text": [
            "enter the total fare:5000\n",
            "enter the number10\n",
            "ticket per person is 500\n"
          ]
        }
      ]
    },
    {
      "cell_type": "code",
      "source": [
        "p1=input(\"enter the name:\")\n",
        "f1=int(input(\"enter the fare:\"))\n",
        "p2=input(\"enter the name:\")\n",
        "f2=int(input(\"enter the fare:\"))\n",
        "print(p1,f1)\n",
        "print(p2,f2)"
      ],
      "metadata": {
        "colab": {
          "base_uri": "https://localhost:8080/"
        },
        "id": "dX3Q3H5WstFD",
        "outputId": "e024fecf-2b5e-411c-b6e6-c66064949891"
      },
      "execution_count": 29,
      "outputs": [
        {
          "output_type": "stream",
          "name": "stdout",
          "text": [
            "enter the name:jif\n",
            "enter the fare:200\n",
            "enter the name:anu\n",
            "enter the fare:300\n",
            "jif 200\n",
            "anu 300\n"
          ]
        }
      ]
    },
    {
      "cell_type": "code",
      "source": [
        "totfare=int(input(\"enter the tot fare:\"))\n",
        "if totfare>10000:\n",
        "  print(\"eligible for discount\")\n",
        "else:\n",
        "  print(\"not eligible for discount\")"
      ],
      "metadata": {
        "colab": {
          "base_uri": "https://localhost:8080/"
        },
        "id": "QjboVsUruDSi",
        "outputId": "9593bea0-f451-4e1c-ba79-79e89dbd6f36"
      },
      "execution_count": 31,
      "outputs": [
        {
          "output_type": "stream",
          "name": "stdout",
          "text": [
            "enter the tot fare:5000\n",
            "not eligible for discount\n"
          ]
        }
      ]
    },
    {
      "cell_type": "code",
      "source": [
        "tottick=int(input(\"enter the tot ticket fare:\"))\n",
        "if tottick>15000:\n",
        "  print(\"eligible for 20% discount\")\n",
        "else:\n",
        "  print(\"not eligible for 20% discount\")"
      ],
      "metadata": {
        "colab": {
          "base_uri": "https://localhost:8080/"
        },
        "id": "cKFjaTGM06jZ",
        "outputId": "9334a6f9-548e-4205-ef80-e657ccde752b"
      },
      "execution_count": 32,
      "outputs": [
        {
          "output_type": "stream",
          "name": "stdout",
          "text": [
            "enter the tot ticket fare:20000\n",
            "eligible for 20% discount\n"
          ]
        }
      ]
    },
    {
      "cell_type": "code",
      "source": [
        "t=int(input(\"enter the fare:\"))\n",
        "if t>15000:\n",
        "  s=t*20/100\n",
        "  print(\"apply 20% discount\",s)\n",
        "if t>10000:\n",
        "  n=t*10/100\n",
        "  print(\"apply 10% discount\",n)\n",
        "if t<10000:\n",
        "  c=t*5/100\n",
        "  print(\"apply 5% discount\",c)"
      ],
      "metadata": {
        "colab": {
          "base_uri": "https://localhost:8080/"
        },
        "id": "EtUU9zxS5uVQ",
        "outputId": "9a8720f6-a4ab-49a9-b8ce-d52fbe5a6c28"
      },
      "execution_count": 34,
      "outputs": [
        {
          "output_type": "stream",
          "name": "stdout",
          "text": [
            "enter the fare:20000\n",
            "apply 20% discount 4000.0\n",
            "apply 10% discount 2000.0\n"
          ]
        }
      ]
    },
    {
      "cell_type": "code",
      "source": [],
      "metadata": {
        "id": "eD_7QEYp_UAA"
      },
      "execution_count": 34,
      "outputs": []
    }
  ]
}