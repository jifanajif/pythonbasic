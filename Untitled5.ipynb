{
  "nbformat": 4,
  "nbformat_minor": 0,
  "metadata": {
    "colab": {
      "provenance": [],
      "authorship_tag": "ABX9TyNWTQfB54reqnijVxl/I5mj",
      "include_colab_link": true
    },
    "kernelspec": {
      "name": "python3",
      "display_name": "Python 3"
    },
    "language_info": {
      "name": "python"
    }
  },
  "cells": [
    {
      "cell_type": "markdown",
      "metadata": {
        "id": "view-in-github",
        "colab_type": "text"
      },
      "source": [
        "<a href=\"https://colab.research.google.com/github/jifanajif/pythonbasic/blob/main/Untitled5.ipynb\" target=\"_parent\"><img src=\"https://colab.research.google.com/assets/colab-badge.svg\" alt=\"Open In Colab\"/></a>"
      ]
    },
    {
      "cell_type": "code",
      "execution_count": 2,
      "metadata": {
        "colab": {
          "base_uri": "https://localhost:8080/"
        },
        "id": "t5QNJ5n3dr1e",
        "outputId": "62856510-e3b9-448e-d0f9-4edfc61811f1"
      },
      "outputs": [
        {
          "output_type": "stream",
          "name": "stdout",
          "text": [
            "enter the name jif\n",
            "jif\n"
          ]
        }
      ],
      "source": [
        "name=input(\"enter the name \")\n",
        "print(name)"
      ]
    },
    {
      "cell_type": "code",
      "source": [
        "mark1=int(input(\"enter the marks:\"))\n",
        "mark2=int(input(\"enter the marks:\"))\n",
        "mark3=int(input(\"enter the marks:\"))\n",
        "sum=(mark1+mark2+mark3)\n",
        "avg=sum/3\n",
        "print(sum)\n",
        "print(avg)"
      ],
      "metadata": {
        "colab": {
          "base_uri": "https://localhost:8080/"
        },
        "id": "j9HtsED2irk1",
        "outputId": "10b2cfc6-da1a-4337-a7d0-d43b92b8657b"
      },
      "execution_count": 13,
      "outputs": [
        {
          "output_type": "stream",
          "name": "stdout",
          "text": [
            "enter the marks:20\n",
            "enter the marks:30\n",
            "enter the marks:50\n",
            "100\n",
            "33.333333333333336\n"
          ]
        }
      ]
    },
    {
      "cell_type": "code",
      "source": [
        "mark1=int(input(\"enter the number \"))\n",
        "mark2=int(input(\"enter the number \"))\n",
        "mark3=int(input(\"enter the number\"))\n",
        "if mark1>mark2:\n",
        "  print(mark1,\" is greatest\")\n",
        "elif mark2>mark3:\n",
        "  print(mark2,\" is greatest\")\n",
        "elif mark3>mark1:\n",
        "  print(mark3,\" is greatest\")\n"
      ],
      "metadata": {
        "colab": {
          "base_uri": "https://localhost:8080/"
        },
        "id": "TVi_IQOVlfjo",
        "outputId": "10e7385a-df57-4eb0-d6ea-b7ade0d06ea0"
      },
      "execution_count": 21,
      "outputs": [
        {
          "output_type": "stream",
          "name": "stdout",
          "text": [
            "enter the number 50\n",
            "enter the number 30\n",
            "enter the number20\n",
            "50  is greatest\n"
          ]
        }
      ]
    },
    {
      "cell_type": "code",
      "source": [
        "numb=int(input(\"enter the number \"))\n",
        "if numb%2==0:\n",
        "  print(\"it is even number\")\n",
        "else:\n",
        "  print(\"it is odd number\")\n",
        "\n"
      ],
      "metadata": {
        "colab": {
          "base_uri": "https://localhost:8080/"
        },
        "id": "Zy34O24Us3eW",
        "outputId": "ddf4f316-af60-4076-e842-545e1fcc6600"
      },
      "execution_count": 31,
      "outputs": [
        {
          "output_type": "stream",
          "name": "stdout",
          "text": [
            "enter the number 50\n",
            "it is even number\n"
          ]
        }
      ]
    },
    {
      "cell_type": "code",
      "source": [
        "for i in range(1,11):\n",
        "  print(i)\n",
        "\n"
      ],
      "metadata": {
        "colab": {
          "base_uri": "https://localhost:8080/"
        },
        "id": "KOLA0B4dxTzT",
        "outputId": "dff3c5f0-697a-4a34-b8d8-59b041bcffc2"
      },
      "execution_count": 32,
      "outputs": [
        {
          "output_type": "stream",
          "name": "stdout",
          "text": [
            "1\n",
            "2\n",
            "3\n",
            "4\n",
            "5\n",
            "6\n",
            "7\n",
            "8\n",
            "9\n",
            "10\n"
          ]
        }
      ]
    },
    {
      "cell_type": "code",
      "source": [
        "for i in range(0,55,5):\n",
        "  print(i)"
      ],
      "metadata": {
        "colab": {
          "base_uri": "https://localhost:8080/"
        },
        "id": "bCxf1Zd-0uyk",
        "outputId": "708129bb-c859-4bc6-c099-4af41b5fb817"
      },
      "execution_count": 36,
      "outputs": [
        {
          "output_type": "stream",
          "name": "stdout",
          "text": [
            "0\n",
            "5\n",
            "10\n",
            "15\n",
            "20\n",
            "25\n",
            "30\n",
            "35\n",
            "40\n",
            "45\n",
            "50\n"
          ]
        }
      ]
    },
    {
      "cell_type": "code",
      "source": [],
      "metadata": {
        "id": "ueILRD7R1Oen"
      },
      "execution_count": null,
      "outputs": []
    }
  ]
}