{
  "nbformat": 4,
  "nbformat_minor": 0,
  "metadata": {
    "colab": {
      "provenance": [],
      "authorship_tag": "ABX9TyP4umpr7Z3+qqz8d4A+B3Q7",
      "include_colab_link": true
    },
    "kernelspec": {
      "name": "python3",
      "display_name": "Python 3"
    },
    "language_info": {
      "name": "python"
    }
  },
  "cells": [
    {
      "cell_type": "markdown",
      "metadata": {
        "id": "view-in-github",
        "colab_type": "text"
      },
      "source": [
        "<a href=\"https://colab.research.google.com/github/jifanajif/pythonbasic/blob/main/Untitled13.ipynb\" target=\"_parent\"><img src=\"https://colab.research.google.com/assets/colab-badge.svg\" alt=\"Open In Colab\"/></a>"
      ]
    },
    {
      "cell_type": "code",
      "execution_count": 2,
      "metadata": {
        "colab": {
          "base_uri": "https://localhost:8080/"
        },
        "id": "QXsLyPP_s06j",
        "outputId": "be52838c-f8b1-4b94-9b50-bbf6743b7a50"
      },
      "outputs": [
        {
          "output_type": "stream",
          "name": "stdout",
          "text": [
            "fifa worldcup 2022\n"
          ]
        }
      ],
      "source": [
        "def name():\n",
        "  print(\"fifa worldcup 2022\")\n",
        "name()"
      ]
    },
    {
      "cell_type": "code",
      "source": [
        "def name(tname,sname,fname):\n",
        "  print(tname,sname,fname)\n",
        "name(\"p\",\"jamshad\",\"jifana\")"
      ],
      "metadata": {
        "colab": {
          "base_uri": "https://localhost:8080/"
        },
        "outputId": "9ae41ae8-b07a-4c76-f25a-0a7d94c14046",
        "id": "hR9q7hwkyjgD"
      },
      "execution_count": 9,
      "outputs": [
        {
          "output_type": "stream",
          "name": "stdout",
          "text": [
            "p jamshad jifana\n"
          ]
        }
      ]
    },
    {
      "cell_type": "code",
      "source": [
        "def name(fname,sname,tname):\n",
        "  print(fname,sname,tname)\n",
        "name(\"jifana\",\"jamshad\",\"p\")"
      ],
      "metadata": {
        "colab": {
          "base_uri": "https://localhost:8080/"
        },
        "outputId": "533295e7-ab13-41a4-e100-1dceb0f87424",
        "id": "RN6aKQy40HSG"
      },
      "execution_count": 10,
      "outputs": [
        {
          "output_type": "stream",
          "name": "stdout",
          "text": [
            "jifana jamshad p\n"
          ]
        }
      ]
    },
    {
      "cell_type": "code",
      "source": [],
      "metadata": {
        "id": "YyaBYYSA0S7m"
      },
      "execution_count": null,
      "outputs": []
    }
  ]
}