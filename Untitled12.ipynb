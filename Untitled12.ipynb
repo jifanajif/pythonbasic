{
  "nbformat": 4,
  "nbformat_minor": 0,
  "metadata": {
    "colab": {
      "provenance": [],
      "authorship_tag": "ABX9TyNIbq1VAazUq6GUNOjPGvhi",
      "include_colab_link": true
    },
    "kernelspec": {
      "name": "python3",
      "display_name": "Python 3"
    },
    "language_info": {
      "name": "python"
    }
  },
  "cells": [
    {
      "cell_type": "markdown",
      "metadata": {
        "id": "view-in-github",
        "colab_type": "text"
      },
      "source": [
        "<a href=\"https://colab.research.google.com/github/jifanajif/pythonbasic/blob/main/Untitled12.ipynb\" target=\"_parent\"><img src=\"https://colab.research.google.com/assets/colab-badge.svg\" alt=\"Open In Colab\"/></a>"
      ]
    },
    {
      "cell_type": "code",
      "execution_count": 1,
      "metadata": {
        "colab": {
          "base_uri": "https://localhost:8080/"
        },
        "id": "nM-VV4dg8obn",
        "outputId": "bf51cffe-9e32-4a32-a018-24525ecc2b4a"
      },
      "outputs": [
        {
          "output_type": "execute_result",
          "data": {
            "text/plain": [
              "int"
            ]
          },
          "metadata": {},
          "execution_count": 1
        }
      ],
      "source": [
        "n=10\n",
        "type(n)"
      ]
    },
    {
      "cell_type": "code",
      "source": [
        "n=2.222\n",
        "type(n)"
      ],
      "metadata": {
        "colab": {
          "base_uri": "https://localhost:8080/"
        },
        "id": "l6NYZsuz8uYu",
        "outputId": "85cf9bb2-6d6b-481c-c12c-3e8e1ec08280"
      },
      "execution_count": 2,
      "outputs": [
        {
          "output_type": "execute_result",
          "data": {
            "text/plain": [
              "float"
            ]
          },
          "metadata": {},
          "execution_count": 2
        }
      ]
    },
    {
      "cell_type": "code",
      "source": [
        "n=\"ssss\"\n",
        "type(n)"
      ],
      "metadata": {
        "colab": {
          "base_uri": "https://localhost:8080/"
        },
        "id": "6LW_qYwb81hf",
        "outputId": "aa0d9783-ab4e-4fe8-c6dd-2295de1a7f27"
      },
      "execution_count": 3,
      "outputs": [
        {
          "output_type": "execute_result",
          "data": {
            "text/plain": [
              "str"
            ]
          },
          "metadata": {},
          "execution_count": 3
        }
      ]
    },
    {
      "cell_type": "code",
      "source": [
        "n=1+2j\n",
        "type(n)"
      ],
      "metadata": {
        "colab": {
          "base_uri": "https://localhost:8080/"
        },
        "id": "u6eN98tF85Nv",
        "outputId": "4454b9be-1fec-4c5d-fac5-8f8397a5269e"
      },
      "execution_count": 4,
      "outputs": [
        {
          "output_type": "execute_result",
          "data": {
            "text/plain": [
              "complex"
            ]
          },
          "metadata": {},
          "execution_count": 4
        }
      ]
    },
    {
      "cell_type": "code",
      "source": [
        "n=10\n",
        "b=2.2\n",
        "s=n+b\n",
        "print(s)\n",
        "type(s)"
      ],
      "metadata": {
        "colab": {
          "base_uri": "https://localhost:8080/"
        },
        "id": "Dfq0j-Y98-04",
        "outputId": "0a0146ad-1717-4ca7-934b-696f7825b972"
      },
      "execution_count": 5,
      "outputs": [
        {
          "output_type": "stream",
          "name": "stdout",
          "text": [
            "12.2\n"
          ]
        },
        {
          "output_type": "execute_result",
          "data": {
            "text/plain": [
              "float"
            ]
          },
          "metadata": {},
          "execution_count": 5
        }
      ]
    },
    {
      "cell_type": "code",
      "source": [
        "f=['jif','angu','nuuih','cindii','iree']\n",
        "type(f)"
      ],
      "metadata": {
        "colab": {
          "base_uri": "https://localhost:8080/"
        },
        "id": "2qdBzdRU9H1w",
        "outputId": "16815ba6-fb8e-49e0-9909-cf11afddb689"
      },
      "execution_count": 6,
      "outputs": [
        {
          "output_type": "execute_result",
          "data": {
            "text/plain": [
              "list"
            ]
          },
          "metadata": {},
          "execution_count": 6
        }
      ]
    },
    {
      "cell_type": "code",
      "source": [
        "b=['eva','raees','hyzi','zara','raju']\n",
        "f=['jif','angu','nuuih','cindii','iree']\n",
        "p=b+f\n",
        "print(p)\n",
        "b.pop(2)"
      ],
      "metadata": {
        "colab": {
          "base_uri": "https://localhost:8080/",
          "height": 53
        },
        "id": "8L8rv2yQ9XTw",
        "outputId": "49860241-80fa-4d27-c045-dea6f49a31c7"
      },
      "execution_count": 8,
      "outputs": [
        {
          "output_type": "stream",
          "name": "stdout",
          "text": [
            "['eva', 'raees', 'hyzi', 'zara', 'raju', 'jif', 'angu', 'nuuih', 'cindii', 'iree']\n"
          ]
        },
        {
          "output_type": "execute_result",
          "data": {
            "text/plain": [
              "'hyzi'"
            ],
            "application/vnd.google.colaboratory.intrinsic+json": {
              "type": "string"
            }
          },
          "metadata": {},
          "execution_count": 8
        }
      ]
    },
    {
      "cell_type": "code",
      "source": [
        "f.append(\"anu\")\n",
        "print(f)"
      ],
      "metadata": {
        "colab": {
          "base_uri": "https://localhost:8080/"
        },
        "id": "e0qReyxg-2GI",
        "outputId": "7aa9f608-6e53-4b88-a3e0-677673069fd3"
      },
      "execution_count": 14,
      "outputs": [
        {
          "output_type": "stream",
          "name": "stdout",
          "text": [
            "['jif', 'angu', 'nuuih', 'cindii', 'iree', 3, 3, 'anu', 'anu', 'anu']\n"
          ]
        }
      ]
    },
    {
      "cell_type": "code",
      "source": [
        "b.sort()\n",
        "print(b)"
      ],
      "metadata": {
        "colab": {
          "base_uri": "https://localhost:8080/"
        },
        "id": "_atEKBe0_6VT",
        "outputId": "f1c478c8-4c3c-45e6-e302-db1612744f63"
      },
      "execution_count": 15,
      "outputs": [
        {
          "output_type": "stream",
          "name": "stdout",
          "text": [
            "['eva', 'raees', 'raju']\n"
          ]
        }
      ]
    },
    {
      "cell_type": "code",
      "source": [
        "b.reverse()\n",
        "print(b)"
      ],
      "metadata": {
        "colab": {
          "base_uri": "https://localhost:8080/"
        },
        "id": "Glfjuw7YAMPi",
        "outputId": "6fa0c957-0664-40bb-a9cd-83ba6c381f46"
      },
      "execution_count": 16,
      "outputs": [
        {
          "output_type": "stream",
          "name": "stdout",
          "text": [
            "['raju', 'raees', 'eva']\n"
          ]
        }
      ]
    },
    {
      "cell_type": "code",
      "source": [
        "b.insert(2,\"sona\")\n",
        "print(b)"
      ],
      "metadata": {
        "colab": {
          "base_uri": "https://localhost:8080/"
        },
        "id": "u14PRTWEARX3",
        "outputId": "8f3e43ad-148a-4802-8496-b50cd48e28d0"
      },
      "execution_count": 18,
      "outputs": [
        {
          "output_type": "stream",
          "name": "stdout",
          "text": [
            "['raju', 'raees', 'sona', 'eva']\n"
          ]
        }
      ]
    },
    {
      "cell_type": "code",
      "source": [
        "t=(10,1,2,3,40)\n",
        "type(t)"
      ],
      "metadata": {
        "colab": {
          "base_uri": "https://localhost:8080/"
        },
        "id": "g0TJw4xOBHh2",
        "outputId": "7bce0b48-a718-44de-8249-ac387a62d2d3"
      },
      "execution_count": 20,
      "outputs": [
        {
          "output_type": "execute_result",
          "data": {
            "text/plain": [
              "tuple"
            ]
          },
          "metadata": {},
          "execution_count": 20
        }
      ]
    },
    {
      "cell_type": "code",
      "source": [
        "marks=(20,30,40,50)\n",
        "s=set(marks)\n",
        "print(s)"
      ],
      "metadata": {
        "colab": {
          "base_uri": "https://localhost:8080/"
        },
        "id": "CJIIVKXIIyVQ",
        "outputId": "5a72430d-5d42-4b59-d93f-020c358358e8"
      },
      "execution_count": 21,
      "outputs": [
        {
          "output_type": "stream",
          "name": "stdout",
          "text": [
            "{40, 50, 20, 30}\n"
          ]
        }
      ]
    },
    {
      "cell_type": "code",
      "source": [
        "dict={\"name\":\"jif\",\"phonenumb\":\"7558816616\",\"place\":\"thrissur\"}\n",
        "print(dict)"
      ],
      "metadata": {
        "colab": {
          "base_uri": "https://localhost:8080/"
        },
        "id": "hI12ddUNDc3i",
        "outputId": "aad5428d-e873-47af-c933-9ca9ee1e4c68"
      },
      "execution_count": 22,
      "outputs": [
        {
          "output_type": "stream",
          "name": "stdout",
          "text": [
            "{'name': 'jif', 'phonenumb': '7558816616', 'place': 'thrissur'}\n"
          ]
        }
      ]
    },
    {
      "cell_type": "code",
      "source": [
        "dict={\"name\":\"jif\",\"phonenumb\":\"7558816616\",\"place\":\"thrissur\"}\n",
        "print(dict.keys())\n",
        "print(dict.values())"
      ],
      "metadata": {
        "colab": {
          "base_uri": "https://localhost:8080/"
        },
        "outputId": "79e1c73e-d0a4-4356-a6df-7df41f8d4099",
        "id": "8mepujLmJi_v"
      },
      "execution_count": 23,
      "outputs": [
        {
          "output_type": "stream",
          "name": "stdout",
          "text": [
            "dict_keys(['name', 'phonenumb', 'place'])\n",
            "dict_values(['jif', '7558816616', 'thrissur'])\n"
          ]
        }
      ]
    },
    {
      "cell_type": "code",
      "source": [
        "dict={\"name\":\"jif\",\"phonenumb\":\"7558816619\",\"place\":\"thrissur\"}\n",
        "dict.update({\"dob\":\"19-11-2003\"})\n",
        "print(dict.items())"
      ],
      "metadata": {
        "colab": {
          "base_uri": "https://localhost:8080/"
        },
        "outputId": "475daeab-349d-4dd8-84f2-6074ab931468",
        "id": "VAJlDmqYJ9L1"
      },
      "execution_count": 27,
      "outputs": [
        {
          "output_type": "stream",
          "name": "stdout",
          "text": [
            "dict_items([('name', 'jif'), ('phonenumb', '7558816619'), ('place', 'thrissur'), ('dob', '19-11-2003')])\n"
          ]
        }
      ]
    },
    {
      "cell_type": "code",
      "source": [
        "def add(x,y):\n",
        "  return(x+y)\n",
        "add(10,20)"
      ],
      "metadata": {
        "colab": {
          "base_uri": "https://localhost:8080/"
        },
        "id": "T56FdGmYKDir",
        "outputId": "3d315e74-c95d-41c4-aa73-7fc33a1ca3f7"
      },
      "execution_count": 29,
      "outputs": [
        {
          "output_type": "execute_result",
          "data": {
            "text/plain": [
              "30"
            ]
          },
          "metadata": {},
          "execution_count": 29
        }
      ]
    },
    {
      "cell_type": "code",
      "source": [
        "def multi(x,y,z):\n",
        "  return(x*y*z)\n",
        "multi(2,3,4)"
      ],
      "metadata": {
        "colab": {
          "base_uri": "https://localhost:8080/"
        },
        "id": "jC1CT61NMwHQ",
        "outputId": "eff90a6e-1632-4436-c21d-12d71da6afb4"
      },
      "execution_count": 30,
      "outputs": [
        {
          "output_type": "execute_result",
          "data": {
            "text/plain": [
              "24"
            ]
          },
          "metadata": {},
          "execution_count": 30
        }
      ]
    },
    {
      "cell_type": "code",
      "source": [],
      "metadata": {
        "id": "jFHtyLyPNC4c"
      },
      "execution_count": null,
      "outputs": []
    }
  ]
}